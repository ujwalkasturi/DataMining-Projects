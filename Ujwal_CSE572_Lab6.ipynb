{
  "cells": [
    {
      "cell_type": "markdown",
      "metadata": {
        "id": "arKMfKokwMml"
      },
      "source": [
        "# CSE 572: Lab 6\n",
        "\n",
        "In this lab, you will practice implementing different variations of the Support Vector Machine (SVM) classifier.\n",
        "\n",
        "To execute and make changes to this notebook, click File > Save a copy to save your own version in your Google Drive or Github. Read the step-by-step instructions below carefully. To execute the code, click on each cell below and press the SHIFT-ENTER keys simultaneously or by clicking the Play button. \n",
        "\n",
        "When you finish executing all code/exercises, save your notebook then download a copy (.ipynb file). Submit the following **three** things:\n",
        "1. a link to your Colab notebook,\n",
        "2. the .ipynb file, and\n",
        "3. a pdf of the executed notebook on Canvas.\n",
        "\n",
        "To generate a pdf of the notebook, click File > Print > Save as PDF.\n"
      ]
    },
    {
      "cell_type": "markdown",
      "metadata": {
        "id": "fwc5fygLwMmq"
      },
      "source": [
        "### Load the iris dataset\n",
        "\n",
        "Load the dataset. For visualization purposes for the first exercise, we will convert the dataframe to have only two features (petal length and petal width) and two classes (Iris-virginica and Iris-other)."
      ]
    },
    {
      "cell_type": "code",
      "execution_count": null,
      "metadata": {
        "id": "QtBQ6vUPwMmr",
        "colab": {
          "base_uri": "https://localhost:8080/",
          "height": 206
        },
        "outputId": "406bc584-168f-40b2-9eae-9ecf5b0ac628"
      },
      "outputs": [
        {
          "output_type": "execute_result",
          "data": {
            "text/plain": [
              "   sepal length  sepal width  petal length  petal width        class\n",
              "0           5.1          3.5           1.4          0.2  Iris-setosa\n",
              "1           4.9          3.0           1.4          0.2  Iris-setosa\n",
              "2           4.7          3.2           1.3          0.2  Iris-setosa\n",
              "3           4.6          3.1           1.5          0.2  Iris-setosa\n",
              "4           5.0          3.6           1.4          0.2  Iris-setosa"
            ],
            "text/html": [
              "\n",
              "  <div id=\"df-3fca8062-02c9-4213-95a1-1dc6355c0eac\">\n",
              "    <div class=\"colab-df-container\">\n",
              "      <div>\n",
              "<style scoped>\n",
              "    .dataframe tbody tr th:only-of-type {\n",
              "        vertical-align: middle;\n",
              "    }\n",
              "\n",
              "    .dataframe tbody tr th {\n",
              "        vertical-align: top;\n",
              "    }\n",
              "\n",
              "    .dataframe thead th {\n",
              "        text-align: right;\n",
              "    }\n",
              "</style>\n",
              "<table border=\"1\" class=\"dataframe\">\n",
              "  <thead>\n",
              "    <tr style=\"text-align: right;\">\n",
              "      <th></th>\n",
              "      <th>sepal length</th>\n",
              "      <th>sepal width</th>\n",
              "      <th>petal length</th>\n",
              "      <th>petal width</th>\n",
              "      <th>class</th>\n",
              "    </tr>\n",
              "  </thead>\n",
              "  <tbody>\n",
              "    <tr>\n",
              "      <th>0</th>\n",
              "      <td>5.1</td>\n",
              "      <td>3.5</td>\n",
              "      <td>1.4</td>\n",
              "      <td>0.2</td>\n",
              "      <td>Iris-setosa</td>\n",
              "    </tr>\n",
              "    <tr>\n",
              "      <th>1</th>\n",
              "      <td>4.9</td>\n",
              "      <td>3.0</td>\n",
              "      <td>1.4</td>\n",
              "      <td>0.2</td>\n",
              "      <td>Iris-setosa</td>\n",
              "    </tr>\n",
              "    <tr>\n",
              "      <th>2</th>\n",
              "      <td>4.7</td>\n",
              "      <td>3.2</td>\n",
              "      <td>1.3</td>\n",
              "      <td>0.2</td>\n",
              "      <td>Iris-setosa</td>\n",
              "    </tr>\n",
              "    <tr>\n",
              "      <th>3</th>\n",
              "      <td>4.6</td>\n",
              "      <td>3.1</td>\n",
              "      <td>1.5</td>\n",
              "      <td>0.2</td>\n",
              "      <td>Iris-setosa</td>\n",
              "    </tr>\n",
              "    <tr>\n",
              "      <th>4</th>\n",
              "      <td>5.0</td>\n",
              "      <td>3.6</td>\n",
              "      <td>1.4</td>\n",
              "      <td>0.2</td>\n",
              "      <td>Iris-setosa</td>\n",
              "    </tr>\n",
              "  </tbody>\n",
              "</table>\n",
              "</div>\n",
              "      <button class=\"colab-df-convert\" onclick=\"convertToInteractive('df-3fca8062-02c9-4213-95a1-1dc6355c0eac')\"\n",
              "              title=\"Convert this dataframe to an interactive table.\"\n",
              "              style=\"display:none;\">\n",
              "        \n",
              "  <svg xmlns=\"http://www.w3.org/2000/svg\" height=\"24px\"viewBox=\"0 0 24 24\"\n",
              "       width=\"24px\">\n",
              "    <path d=\"M0 0h24v24H0V0z\" fill=\"none\"/>\n",
              "    <path d=\"M18.56 5.44l.94 2.06.94-2.06 2.06-.94-2.06-.94-.94-2.06-.94 2.06-2.06.94zm-11 1L8.5 8.5l.94-2.06 2.06-.94-2.06-.94L8.5 2.5l-.94 2.06-2.06.94zm10 10l.94 2.06.94-2.06 2.06-.94-2.06-.94-.94-2.06-.94 2.06-2.06.94z\"/><path d=\"M17.41 7.96l-1.37-1.37c-.4-.4-.92-.59-1.43-.59-.52 0-1.04.2-1.43.59L10.3 9.45l-7.72 7.72c-.78.78-.78 2.05 0 2.83L4 21.41c.39.39.9.59 1.41.59.51 0 1.02-.2 1.41-.59l7.78-7.78 2.81-2.81c.8-.78.8-2.07 0-2.86zM5.41 20L4 18.59l7.72-7.72 1.47 1.35L5.41 20z\"/>\n",
              "  </svg>\n",
              "      </button>\n",
              "      \n",
              "  <style>\n",
              "    .colab-df-container {\n",
              "      display:flex;\n",
              "      flex-wrap:wrap;\n",
              "      gap: 12px;\n",
              "    }\n",
              "\n",
              "    .colab-df-convert {\n",
              "      background-color: #E8F0FE;\n",
              "      border: none;\n",
              "      border-radius: 50%;\n",
              "      cursor: pointer;\n",
              "      display: none;\n",
              "      fill: #1967D2;\n",
              "      height: 32px;\n",
              "      padding: 0 0 0 0;\n",
              "      width: 32px;\n",
              "    }\n",
              "\n",
              "    .colab-df-convert:hover {\n",
              "      background-color: #E2EBFA;\n",
              "      box-shadow: 0px 1px 2px rgba(60, 64, 67, 0.3), 0px 1px 3px 1px rgba(60, 64, 67, 0.15);\n",
              "      fill: #174EA6;\n",
              "    }\n",
              "\n",
              "    [theme=dark] .colab-df-convert {\n",
              "      background-color: #3B4455;\n",
              "      fill: #D2E3FC;\n",
              "    }\n",
              "\n",
              "    [theme=dark] .colab-df-convert:hover {\n",
              "      background-color: #434B5C;\n",
              "      box-shadow: 0px 1px 3px 1px rgba(0, 0, 0, 0.15);\n",
              "      filter: drop-shadow(0px 1px 2px rgba(0, 0, 0, 0.3));\n",
              "      fill: #FFFFFF;\n",
              "    }\n",
              "  </style>\n",
              "\n",
              "      <script>\n",
              "        const buttonEl =\n",
              "          document.querySelector('#df-3fca8062-02c9-4213-95a1-1dc6355c0eac button.colab-df-convert');\n",
              "        buttonEl.style.display =\n",
              "          google.colab.kernel.accessAllowed ? 'block' : 'none';\n",
              "\n",
              "        async function convertToInteractive(key) {\n",
              "          const element = document.querySelector('#df-3fca8062-02c9-4213-95a1-1dc6355c0eac');\n",
              "          const dataTable =\n",
              "            await google.colab.kernel.invokeFunction('convertToInteractive',\n",
              "                                                     [key], {});\n",
              "          if (!dataTable) return;\n",
              "\n",
              "          const docLinkHtml = 'Like what you see? Visit the ' +\n",
              "            '<a target=\"_blank\" href=https://colab.research.google.com/notebooks/data_table.ipynb>data table notebook</a>'\n",
              "            + ' to learn more about interactive tables.';\n",
              "          element.innerHTML = '';\n",
              "          dataTable['output_type'] = 'display_data';\n",
              "          await google.colab.output.renderOutput(dataTable, element);\n",
              "          const docLink = document.createElement('div');\n",
              "          docLink.innerHTML = docLinkHtml;\n",
              "          element.appendChild(docLink);\n",
              "        }\n",
              "      </script>\n",
              "    </div>\n",
              "  </div>\n",
              "  "
            ]
          },
          "metadata": {},
          "execution_count": 1
        }
      ],
      "source": [
        "import pandas as pd\n",
        "\n",
        "data = pd.read_csv('http://archive.ics.uci.edu/ml/machine-learning-databases/iris/iris.data',header=None)\n",
        "data.columns = ['sepal length', 'sepal width', 'petal length', 'petal width', 'class']\n",
        "\n",
        "data.head()"
      ]
    },
    {
      "cell_type": "code",
      "execution_count": null,
      "metadata": {
        "id": "L66EyLgWwMms",
        "colab": {
          "base_uri": "https://localhost:8080/",
          "height": 206
        },
        "outputId": "9e71e73e-5bc9-4548-c465-14c5b6b33817"
      },
      "outputs": [
        {
          "output_type": "execute_result",
          "data": {
            "text/plain": [
              "   petal length  petal width        class\n",
              "0           1.4          0.2  Iris-setosa\n",
              "1           1.4          0.2  Iris-setosa\n",
              "2           1.3          0.2  Iris-setosa\n",
              "3           1.5          0.2  Iris-setosa\n",
              "4           1.4          0.2  Iris-setosa"
            ],
            "text/html": [
              "\n",
              "  <div id=\"df-76984ccf-825f-40b0-b7a9-98bb84fb27fa\">\n",
              "    <div class=\"colab-df-container\">\n",
              "      <div>\n",
              "<style scoped>\n",
              "    .dataframe tbody tr th:only-of-type {\n",
              "        vertical-align: middle;\n",
              "    }\n",
              "\n",
              "    .dataframe tbody tr th {\n",
              "        vertical-align: top;\n",
              "    }\n",
              "\n",
              "    .dataframe thead th {\n",
              "        text-align: right;\n",
              "    }\n",
              "</style>\n",
              "<table border=\"1\" class=\"dataframe\">\n",
              "  <thead>\n",
              "    <tr style=\"text-align: right;\">\n",
              "      <th></th>\n",
              "      <th>petal length</th>\n",
              "      <th>petal width</th>\n",
              "      <th>class</th>\n",
              "    </tr>\n",
              "  </thead>\n",
              "  <tbody>\n",
              "    <tr>\n",
              "      <th>0</th>\n",
              "      <td>1.4</td>\n",
              "      <td>0.2</td>\n",
              "      <td>Iris-setosa</td>\n",
              "    </tr>\n",
              "    <tr>\n",
              "      <th>1</th>\n",
              "      <td>1.4</td>\n",
              "      <td>0.2</td>\n",
              "      <td>Iris-setosa</td>\n",
              "    </tr>\n",
              "    <tr>\n",
              "      <th>2</th>\n",
              "      <td>1.3</td>\n",
              "      <td>0.2</td>\n",
              "      <td>Iris-setosa</td>\n",
              "    </tr>\n",
              "    <tr>\n",
              "      <th>3</th>\n",
              "      <td>1.5</td>\n",
              "      <td>0.2</td>\n",
              "      <td>Iris-setosa</td>\n",
              "    </tr>\n",
              "    <tr>\n",
              "      <th>4</th>\n",
              "      <td>1.4</td>\n",
              "      <td>0.2</td>\n",
              "      <td>Iris-setosa</td>\n",
              "    </tr>\n",
              "  </tbody>\n",
              "</table>\n",
              "</div>\n",
              "      <button class=\"colab-df-convert\" onclick=\"convertToInteractive('df-76984ccf-825f-40b0-b7a9-98bb84fb27fa')\"\n",
              "              title=\"Convert this dataframe to an interactive table.\"\n",
              "              style=\"display:none;\">\n",
              "        \n",
              "  <svg xmlns=\"http://www.w3.org/2000/svg\" height=\"24px\"viewBox=\"0 0 24 24\"\n",
              "       width=\"24px\">\n",
              "    <path d=\"M0 0h24v24H0V0z\" fill=\"none\"/>\n",
              "    <path d=\"M18.56 5.44l.94 2.06.94-2.06 2.06-.94-2.06-.94-.94-2.06-.94 2.06-2.06.94zm-11 1L8.5 8.5l.94-2.06 2.06-.94-2.06-.94L8.5 2.5l-.94 2.06-2.06.94zm10 10l.94 2.06.94-2.06 2.06-.94-2.06-.94-.94-2.06-.94 2.06-2.06.94z\"/><path d=\"M17.41 7.96l-1.37-1.37c-.4-.4-.92-.59-1.43-.59-.52 0-1.04.2-1.43.59L10.3 9.45l-7.72 7.72c-.78.78-.78 2.05 0 2.83L4 21.41c.39.39.9.59 1.41.59.51 0 1.02-.2 1.41-.59l7.78-7.78 2.81-2.81c.8-.78.8-2.07 0-2.86zM5.41 20L4 18.59l7.72-7.72 1.47 1.35L5.41 20z\"/>\n",
              "  </svg>\n",
              "      </button>\n",
              "      \n",
              "  <style>\n",
              "    .colab-df-container {\n",
              "      display:flex;\n",
              "      flex-wrap:wrap;\n",
              "      gap: 12px;\n",
              "    }\n",
              "\n",
              "    .colab-df-convert {\n",
              "      background-color: #E8F0FE;\n",
              "      border: none;\n",
              "      border-radius: 50%;\n",
              "      cursor: pointer;\n",
              "      display: none;\n",
              "      fill: #1967D2;\n",
              "      height: 32px;\n",
              "      padding: 0 0 0 0;\n",
              "      width: 32px;\n",
              "    }\n",
              "\n",
              "    .colab-df-convert:hover {\n",
              "      background-color: #E2EBFA;\n",
              "      box-shadow: 0px 1px 2px rgba(60, 64, 67, 0.3), 0px 1px 3px 1px rgba(60, 64, 67, 0.15);\n",
              "      fill: #174EA6;\n",
              "    }\n",
              "\n",
              "    [theme=dark] .colab-df-convert {\n",
              "      background-color: #3B4455;\n",
              "      fill: #D2E3FC;\n",
              "    }\n",
              "\n",
              "    [theme=dark] .colab-df-convert:hover {\n",
              "      background-color: #434B5C;\n",
              "      box-shadow: 0px 1px 3px 1px rgba(0, 0, 0, 0.15);\n",
              "      filter: drop-shadow(0px 1px 2px rgba(0, 0, 0, 0.3));\n",
              "      fill: #FFFFFF;\n",
              "    }\n",
              "  </style>\n",
              "\n",
              "      <script>\n",
              "        const buttonEl =\n",
              "          document.querySelector('#df-76984ccf-825f-40b0-b7a9-98bb84fb27fa button.colab-df-convert');\n",
              "        buttonEl.style.display =\n",
              "          google.colab.kernel.accessAllowed ? 'block' : 'none';\n",
              "\n",
              "        async function convertToInteractive(key) {\n",
              "          const element = document.querySelector('#df-76984ccf-825f-40b0-b7a9-98bb84fb27fa');\n",
              "          const dataTable =\n",
              "            await google.colab.kernel.invokeFunction('convertToInteractive',\n",
              "                                                     [key], {});\n",
              "          if (!dataTable) return;\n",
              "\n",
              "          const docLinkHtml = 'Like what you see? Visit the ' +\n",
              "            '<a target=\"_blank\" href=https://colab.research.google.com/notebooks/data_table.ipynb>data table notebook</a>'\n",
              "            + ' to learn more about interactive tables.';\n",
              "          element.innerHTML = '';\n",
              "          dataTable['output_type'] = 'display_data';\n",
              "          await google.colab.output.renderOutput(dataTable, element);\n",
              "          const docLink = document.createElement('div');\n",
              "          docLink.innerHTML = docLinkHtml;\n",
              "          element.appendChild(docLink);\n",
              "        }\n",
              "      </script>\n",
              "    </div>\n",
              "  </div>\n",
              "  "
            ]
          },
          "metadata": {},
          "execution_count": 2
        }
      ],
      "source": [
        "# Drop the sepal features \n",
        "data = data.drop(['sepal length', 'sepal width'], axis=1)\n",
        "\n",
        "data.head()"
      ]
    },
    {
      "cell_type": "code",
      "execution_count": null,
      "metadata": {
        "id": "0nDHEUi5wMms"
      },
      "outputs": [],
      "source": [
        "# Replace the Iris-setosa and Iris-versicolor classes with Iris-other\n",
        "data['class'] = data['class'].replace('Iris-versicolor', 'Iris-other')\n",
        "data['class'] = data['class'].replace('Iris-setosa', 'Iris-other')"
      ]
    },
    {
      "cell_type": "markdown",
      "metadata": {
        "id": "0iFF52GmwMmt"
      },
      "source": [
        "Next, we will split our dataset into three subsets: training (60%), validation (20%), and test (20%)."
      ]
    },
    {
      "cell_type": "code",
      "execution_count": null,
      "metadata": {
        "id": "Qx0OhVfDwMmt",
        "colab": {
          "base_uri": "https://localhost:8080/",
          "height": 424
        },
        "outputId": "be07a7fd-4f08-4e3d-f3ab-007897e79427"
      },
      "outputs": [
        {
          "output_type": "execute_result",
          "data": {
            "text/plain": [
              "     petal length  petal width           class\n",
              "73            4.7          1.2      Iris-other\n",
              "18            1.7          0.3      Iris-other\n",
              "118           6.9          2.3  Iris-virginica\n",
              "78            4.5          1.5      Iris-other\n",
              "76            4.8          1.4      Iris-other\n",
              "..            ...          ...             ...\n",
              "77            5.0          1.7      Iris-other\n",
              "34            1.5          0.1      Iris-other\n",
              "114           5.1          2.4  Iris-virginica\n",
              "7             1.5          0.2      Iris-other\n",
              "43            1.6          0.6      Iris-other\n",
              "\n",
              "[89 rows x 3 columns]"
            ],
            "text/html": [
              "\n",
              "  <div id=\"df-1655b44b-31e2-45a2-9286-48e27317640a\">\n",
              "    <div class=\"colab-df-container\">\n",
              "      <div>\n",
              "<style scoped>\n",
              "    .dataframe tbody tr th:only-of-type {\n",
              "        vertical-align: middle;\n",
              "    }\n",
              "\n",
              "    .dataframe tbody tr th {\n",
              "        vertical-align: top;\n",
              "    }\n",
              "\n",
              "    .dataframe thead th {\n",
              "        text-align: right;\n",
              "    }\n",
              "</style>\n",
              "<table border=\"1\" class=\"dataframe\">\n",
              "  <thead>\n",
              "    <tr style=\"text-align: right;\">\n",
              "      <th></th>\n",
              "      <th>petal length</th>\n",
              "      <th>petal width</th>\n",
              "      <th>class</th>\n",
              "    </tr>\n",
              "  </thead>\n",
              "  <tbody>\n",
              "    <tr>\n",
              "      <th>73</th>\n",
              "      <td>4.7</td>\n",
              "      <td>1.2</td>\n",
              "      <td>Iris-other</td>\n",
              "    </tr>\n",
              "    <tr>\n",
              "      <th>18</th>\n",
              "      <td>1.7</td>\n",
              "      <td>0.3</td>\n",
              "      <td>Iris-other</td>\n",
              "    </tr>\n",
              "    <tr>\n",
              "      <th>118</th>\n",
              "      <td>6.9</td>\n",
              "      <td>2.3</td>\n",
              "      <td>Iris-virginica</td>\n",
              "    </tr>\n",
              "    <tr>\n",
              "      <th>78</th>\n",
              "      <td>4.5</td>\n",
              "      <td>1.5</td>\n",
              "      <td>Iris-other</td>\n",
              "    </tr>\n",
              "    <tr>\n",
              "      <th>76</th>\n",
              "      <td>4.8</td>\n",
              "      <td>1.4</td>\n",
              "      <td>Iris-other</td>\n",
              "    </tr>\n",
              "    <tr>\n",
              "      <th>...</th>\n",
              "      <td>...</td>\n",
              "      <td>...</td>\n",
              "      <td>...</td>\n",
              "    </tr>\n",
              "    <tr>\n",
              "      <th>77</th>\n",
              "      <td>5.0</td>\n",
              "      <td>1.7</td>\n",
              "      <td>Iris-other</td>\n",
              "    </tr>\n",
              "    <tr>\n",
              "      <th>34</th>\n",
              "      <td>1.5</td>\n",
              "      <td>0.1</td>\n",
              "      <td>Iris-other</td>\n",
              "    </tr>\n",
              "    <tr>\n",
              "      <th>114</th>\n",
              "      <td>5.1</td>\n",
              "      <td>2.4</td>\n",
              "      <td>Iris-virginica</td>\n",
              "    </tr>\n",
              "    <tr>\n",
              "      <th>7</th>\n",
              "      <td>1.5</td>\n",
              "      <td>0.2</td>\n",
              "      <td>Iris-other</td>\n",
              "    </tr>\n",
              "    <tr>\n",
              "      <th>43</th>\n",
              "      <td>1.6</td>\n",
              "      <td>0.6</td>\n",
              "      <td>Iris-other</td>\n",
              "    </tr>\n",
              "  </tbody>\n",
              "</table>\n",
              "<p>89 rows × 3 columns</p>\n",
              "</div>\n",
              "      <button class=\"colab-df-convert\" onclick=\"convertToInteractive('df-1655b44b-31e2-45a2-9286-48e27317640a')\"\n",
              "              title=\"Convert this dataframe to an interactive table.\"\n",
              "              style=\"display:none;\">\n",
              "        \n",
              "  <svg xmlns=\"http://www.w3.org/2000/svg\" height=\"24px\"viewBox=\"0 0 24 24\"\n",
              "       width=\"24px\">\n",
              "    <path d=\"M0 0h24v24H0V0z\" fill=\"none\"/>\n",
              "    <path d=\"M18.56 5.44l.94 2.06.94-2.06 2.06-.94-2.06-.94-.94-2.06-.94 2.06-2.06.94zm-11 1L8.5 8.5l.94-2.06 2.06-.94-2.06-.94L8.5 2.5l-.94 2.06-2.06.94zm10 10l.94 2.06.94-2.06 2.06-.94-2.06-.94-.94-2.06-.94 2.06-2.06.94z\"/><path d=\"M17.41 7.96l-1.37-1.37c-.4-.4-.92-.59-1.43-.59-.52 0-1.04.2-1.43.59L10.3 9.45l-7.72 7.72c-.78.78-.78 2.05 0 2.83L4 21.41c.39.39.9.59 1.41.59.51 0 1.02-.2 1.41-.59l7.78-7.78 2.81-2.81c.8-.78.8-2.07 0-2.86zM5.41 20L4 18.59l7.72-7.72 1.47 1.35L5.41 20z\"/>\n",
              "  </svg>\n",
              "      </button>\n",
              "      \n",
              "  <style>\n",
              "    .colab-df-container {\n",
              "      display:flex;\n",
              "      flex-wrap:wrap;\n",
              "      gap: 12px;\n",
              "    }\n",
              "\n",
              "    .colab-df-convert {\n",
              "      background-color: #E8F0FE;\n",
              "      border: none;\n",
              "      border-radius: 50%;\n",
              "      cursor: pointer;\n",
              "      display: none;\n",
              "      fill: #1967D2;\n",
              "      height: 32px;\n",
              "      padding: 0 0 0 0;\n",
              "      width: 32px;\n",
              "    }\n",
              "\n",
              "    .colab-df-convert:hover {\n",
              "      background-color: #E2EBFA;\n",
              "      box-shadow: 0px 1px 2px rgba(60, 64, 67, 0.3), 0px 1px 3px 1px rgba(60, 64, 67, 0.15);\n",
              "      fill: #174EA6;\n",
              "    }\n",
              "\n",
              "    [theme=dark] .colab-df-convert {\n",
              "      background-color: #3B4455;\n",
              "      fill: #D2E3FC;\n",
              "    }\n",
              "\n",
              "    [theme=dark] .colab-df-convert:hover {\n",
              "      background-color: #434B5C;\n",
              "      box-shadow: 0px 1px 3px 1px rgba(0, 0, 0, 0.15);\n",
              "      filter: drop-shadow(0px 1px 2px rgba(0, 0, 0, 0.3));\n",
              "      fill: #FFFFFF;\n",
              "    }\n",
              "  </style>\n",
              "\n",
              "      <script>\n",
              "        const buttonEl =\n",
              "          document.querySelector('#df-1655b44b-31e2-45a2-9286-48e27317640a button.colab-df-convert');\n",
              "        buttonEl.style.display =\n",
              "          google.colab.kernel.accessAllowed ? 'block' : 'none';\n",
              "\n",
              "        async function convertToInteractive(key) {\n",
              "          const element = document.querySelector('#df-1655b44b-31e2-45a2-9286-48e27317640a');\n",
              "          const dataTable =\n",
              "            await google.colab.kernel.invokeFunction('convertToInteractive',\n",
              "                                                     [key], {});\n",
              "          if (!dataTable) return;\n",
              "\n",
              "          const docLinkHtml = 'Like what you see? Visit the ' +\n",
              "            '<a target=\"_blank\" href=https://colab.research.google.com/notebooks/data_table.ipynb>data table notebook</a>'\n",
              "            + ' to learn more about interactive tables.';\n",
              "          element.innerHTML = '';\n",
              "          dataTable['output_type'] = 'display_data';\n",
              "          await google.colab.output.renderOutput(dataTable, element);\n",
              "          const docLink = document.createElement('div');\n",
              "          docLink.innerHTML = docLinkHtml;\n",
              "          element.appendChild(docLink);\n",
              "        }\n",
              "      </script>\n",
              "    </div>\n",
              "  </div>\n",
              "  "
            ]
          },
          "metadata": {},
          "execution_count": 4
        }
      ],
      "source": [
        "import numpy as np\n",
        "\n",
        "# The first parameter is the shuffled data frame\n",
        "# The second parameter is the split indices which are at 60% of the data and 80% of the data\n",
        "train, val, test = np.split(data.sample(frac=1, random_state=42), [int(.6*len(data)), int(.8*len(data))])\n",
        "train_pred=train['class']\n",
        "train_test=train[:-1]\n",
        "train_test"
      ]
    },
    {
      "cell_type": "markdown",
      "metadata": {
        "id": "HNMHFNjUwMmu"
      },
      "source": [
        "Print the number of samples in each of the three subsets and the number of instances from each class. For example, for the training set you might print \"The training set has __ instances (__ virginica, __ other)\"."
      ]
    },
    {
      "cell_type": "code",
      "execution_count": null,
      "metadata": {
        "id": "zlnNsQfTwMmv",
        "colab": {
          "base_uri": "https://localhost:8080/"
        },
        "outputId": "65a019e7-f64d-4edb-b55e-b764d68f41a6"
      },
      "outputs": [
        {
          "output_type": "stream",
          "name": "stdout",
          "text": [
            "Training set has  90  instances, which contains  64  Iris-other and  26  Iris Virginica\n",
            "Validation set has  30  instances, which contains  18  Iris-other and  12  Iris Virginica\n",
            "Test set has  30  instances, which contains  18  Iris-other and  12  Iris Virginica\n"
          ]
        }
      ],
      "source": [
        "# YOUR CODE HERE\n",
        "print(\"Training set has \",train.shape[0],\" instances, which contains \",train[train['class']=='Iris-other'].shape[0],\" Iris-other and \",train[train['class']=='Iris-virginica'].shape[0],\" Iris Virginica\")\n",
        "print(\"Validation set has \",val.shape[0],\" instances, which contains \",val[val['class']=='Iris-other'].shape[0],\" Iris-other and \",val[val['class']=='Iris-virginica'].shape[0],\" Iris Virginica\")\n",
        "print(\"Test set has \",test.shape[0],\" instances, which contains \",test[test['class']=='Iris-other'].shape[0],\" Iris-other and \",test[test['class']=='Iris-virginica'].shape[0],\" Iris Virginica\")"
      ]
    },
    {
      "cell_type": "markdown",
      "metadata": {
        "id": "v94xf4_xwMmw"
      },
      "source": [
        "## Support vector machines\n",
        "Support vector machines (SVMs) are a supervised learning method that finds the hyperplane (or set of hyperplanes) in the $n$-dimensional feature space (where $n$ is the number of input features) which maximizes the distance to the nearest training samples from each class. Maximizing this margin ensures that the decision boundary will be as generalizable as possible to new, unseen data points. "
      ]
    },
    {
      "cell_type": "code",
      "execution_count": null,
      "metadata": {
        "id": "a4hBFkKzwMmw"
      },
      "outputs": [],
      "source": [
        "# import the Support vector classifier\n",
        "from sklearn.svm import SVC"
      ]
    },
    {
      "cell_type": "markdown",
      "metadata": {
        "id": "s8kHkLxowMmx"
      },
      "source": [
        "The main hyperparameter to choose is the regularization parameter $C$, which represents the strength of the penalty incurred during training for allowing samples to be closer to the margin boundary (since a perfect decision boundary is not attainable for most problems). \n",
        "\n",
        "SVM also uses a kernel function $K$ to map samples to a higher dimensional space (this is referred to as the \"kernel trick\"). The SVM implementation in scikit-learn gives four options for the kernel function: linear (this is the standard SVM without non-linear kernel), polynomial, radial basis function (RBF), and sigmoid. \n",
        "\n",
        "The below example uses a linear kernel with $C=0.1$."
      ]
    },
    {
      "cell_type": "code",
      "execution_count": null,
      "metadata": {
        "id": "E3mPLcUewMmx"
      },
      "outputs": [],
      "source": [
        "C = 0.1\n",
        "linear_svc = SVC(kernel='linear', C=C)"
      ]
    },
    {
      "cell_type": "code",
      "execution_count": null,
      "metadata": {
        "id": "XVBeL2UYwMmy",
        "colab": {
          "base_uri": "https://localhost:8080/"
        },
        "outputId": "c07dd019-5a00-4379-a455-5a0596f7cdb6"
      },
      "outputs": [
        {
          "output_type": "execute_result",
          "data": {
            "text/plain": [
              "SVC(C=0.1, kernel='linear')"
            ]
          },
          "metadata": {},
          "execution_count": 8
        }
      ],
      "source": [
        "# train the SVM classifier\n",
        "linear_svc.fit(train[['petal length','petal width']], train['class'])"
      ]
    },
    {
      "cell_type": "markdown",
      "metadata": {
        "id": "e0xGDU8dwMmy"
      },
      "source": [
        "The following function for plotting the decision boundary is from the [Python Data Science Handbook by Jake VanderPlas](https://jakevdp.github.io/PythonDataScienceHandbook/05.07-support-vector-machines.html).  The function plots the decision boundary as a gray solid line and the margins as gray dashed lines. The support vectors are circled."
      ]
    },
    {
      "cell_type": "code",
      "execution_count": null,
      "metadata": {
        "id": "fbMSvZv4wMmy"
      },
      "outputs": [],
      "source": [
        "import matplotlib.pyplot as plt\n",
        "\n",
        "def plot_svc_decision_function(model, ax=None, plot_support=True):\n",
        "    \"\"\"Plot the decision function for a 2D SVC\"\"\"\n",
        "    if ax is None:\n",
        "        ax = plt.gca()\n",
        "    xlim = ax.get_xlim()\n",
        "    ylim = ax.get_ylim()\n",
        "    \n",
        "    # create grid to evaluate model\n",
        "    x = np.linspace(xlim[0], xlim[1], 30)\n",
        "    y = np.linspace(ylim[0], ylim[1], 30)\n",
        "    Y, X = np.meshgrid(y, x)\n",
        "    xy = np.vstack([X.ravel(), Y.ravel()]).T\n",
        "    P = model.decision_function(xy).reshape(X.shape)\n",
        "    \n",
        "    # plot decision boundary and margins\n",
        "    ax.contour(X, Y, P, colors='k',\n",
        "               levels=[-1, 0, 1], alpha=0.5,\n",
        "               linestyles=['--', '-', '--'])\n",
        "    \n",
        "    # plot support vectors\n",
        "    if plot_support:\n",
        "        ax.scatter(model.support_vectors_[:, 0],\n",
        "                   model.support_vectors_[:, 1],\n",
        "                   s=300, linewidth=1, facecolors='none', edgecolors='gray');\n",
        "    ax.set_xlim(xlim)\n",
        "    ax.set_ylim(ylim)"
      ]
    },
    {
      "cell_type": "markdown",
      "metadata": {
        "id": "2RlOlgdWwMmy"
      },
      "source": [
        "Plot the dataset and the learned decision boundary."
      ]
    },
    {
      "cell_type": "code",
      "execution_count": null,
      "metadata": {
        "id": "NQihZGWowMmz",
        "colab": {
          "base_uri": "https://localhost:8080/",
          "height": 385
        },
        "outputId": "38ec1266-5d91-4932-8dfd-69cb13a9e66b"
      },
      "outputs": [
        {
          "output_type": "stream",
          "name": "stderr",
          "text": [
            "/usr/local/lib/python3.7/dist-packages/sklearn/base.py:451: UserWarning: X does not have valid feature names, but SVC was fitted with feature names\n",
            "  \"X does not have valid feature names, but\"\n"
          ]
        },
        {
          "output_type": "display_data",
          "data": {
            "text/plain": [
              "<Figure size 504x360 with 1 Axes>"
            ],
            "image/png": "[encoded data removed]"
          },
          "metadata": {
            "needs_background": "light"
          }
        }
      ],
      "source": [
        "fig, ax = plt.subplots(1, figsize=(7,5))\n",
        "# Plot the setosa instances\n",
        "ax.scatter(train[train['class'] == 'Iris-virginica']['petal length'], \n",
        "               train[train['class'] == 'Iris-virginica']['petal width'],\n",
        "               label='Iris-virginica',\n",
        "               color='blue',\n",
        "               alpha=0.5)\n",
        "# Plot the other instances\n",
        "ax.scatter(train[train['class'] == 'Iris-other']['petal length'], \n",
        "               train[train['class'] == 'Iris-other']['petal width'],\n",
        "               label='Iris-other',\n",
        "               color='red',\n",
        "               alpha=0.5)\n",
        "\n",
        "plot_svc_decision_function(linear_svc, ax=ax)\n",
        "ax.set_xlabel('Petal length')\n",
        "ax.set_ylabel('Petal width')\n",
        "ax.legend()\n",
        "ax.set_title('SVM with Linear Kernel (C=%0.2f)' % C);"
      ]
    },
    {
      "cell_type": "markdown",
      "metadata": {
        "id": "E_IrkSAHwMmz"
      },
      "source": [
        "Train a new model with $C=100$ and plot the resulting decision boundary."
      ]
    },
    {
      "cell_type": "code",
      "execution_count": null,
      "metadata": {
        "id": "zzkwKrxgwMmz",
        "colab": {
          "base_uri": "https://localhost:8080/",
          "height": 385
        },
        "outputId": "e7f64c2e-8aaf-4a97-99b2-05a25b6e50ba"
      },
      "outputs": [
        {
          "output_type": "stream",
          "name": "stderr",
          "text": [
            "/usr/local/lib/python3.7/dist-packages/sklearn/base.py:451: UserWarning: X does not have valid feature names, but SVC was fitted with feature names\n",
            "  \"X does not have valid feature names, but\"\n"
          ]
        },
        {
          "output_type": "display_data",
          "data": {
            "text/plain": [
              "<Figure size 504x360 with 1 Axes>"
            ],
            "image/png": "[encoded data removed]"
          },
          "metadata": {
            "needs_background": "light"
          }
        }
      ],
      "source": [
        "# YOUR CODE HERE\n",
        "C = 100\n",
        "linear_svc_100 = SVC(kernel='linear', C=C)\n",
        "\n",
        "# train the SVM classifier\n",
        "linear_svc_100.fit(train[['petal length','petal width']], train['class'])\n",
        "\n",
        "\n",
        "fig, ax = plt.subplots(1, figsize=(7,5))\n",
        "# Plot the setosa instances\n",
        "ax.scatter(train[train['class'] == 'Iris-virginica']['petal length'], \n",
        "               train[train['class'] == 'Iris-virginica']['petal width'],\n",
        "               label='Iris-virginica',\n",
        "               color='blue',\n",
        "               alpha=0.5)\n",
        "# Plot the other instances\n",
        "ax.scatter(train[train['class'] == 'Iris-other']['petal length'], \n",
        "               train[train['class'] == 'Iris-other']['petal width'],\n",
        "               label='Iris-other',\n",
        "               color='red',\n",
        "               alpha=0.5)\n",
        "\n",
        "plot_svc_decision_function(linear_svc_100, ax=ax)\n",
        "ax.set_xlabel('Petal length')\n",
        "ax.set_ylabel('Petal width')\n",
        "ax.legend()\n",
        "ax.set_title('SVM with Linear Kernel (C=%0.2f)' % C);"
      ]
    },
    {
      "cell_type": "markdown",
      "metadata": {
        "id": "I7K4vFFcwMmz"
      },
      "source": [
        "**Question 1:** \n",
        "\n",
        "How did a higher value of $C$ affect the decision boundary? Why?\n",
        "\n",
        "**Answer:** \n",
        "\n",
        "As the value of C increases the boundary width decreases. Higher value of C means the data is fitted more strictly, and it tries to minimise misclassifying of data."
      ]
    },
    {
      "cell_type": "markdown",
      "metadata": {
        "id": "sEjMu56uwMm0"
      },
      "source": [
        "Compute and print the accuracy of each classifier (with $C=0.1$ and $C=100$) on the validation set. "
      ]
    },
    {
      "cell_type": "code",
      "execution_count": null,
      "metadata": {
        "id": "ubzo6F6BwMm0",
        "colab": {
          "base_uri": "https://localhost:8080/"
        },
        "outputId": "36f31155-39a8-4088-81f5-b9976d7aa460"
      },
      "outputs": [
        {
          "output_type": "stream",
          "name": "stdout",
          "text": [
            "Accuracy score of C=0.1 is 0.9\n",
            "Accuracy score of C=100 is 0.9666666666666667\n"
          ]
        }
      ],
      "source": [
        "from sklearn.metrics import accuracy_score\n",
        "\n",
        "validation_pred=linear_svc.predict(val[['petal length','petal width']])\n",
        "print(\"Accuracy score of C=0.1 is\",accuracy_score(validation_pred,val['class']))\n",
        "\n",
        "validation_pred_100=linear_svc_100.predict(val[['petal length','petal width']])\n",
        "print(\"Accuracy score of C=100 is\",accuracy_score(validation_pred_100,val['class']))"
      ]
    },
    {
      "cell_type": "markdown",
      "metadata": {
        "id": "8rDenyiOwMm0"
      },
      "source": [
        "**Question 2:** \n",
        "\n",
        "Which value of $C$ resulted in higher validation accuracy?\n",
        "\n",
        "**Answer:** \n",
        "\n",
        "When Valuse of C is 100 it gave "
      ]
    },
    {
      "cell_type": "markdown",
      "metadata": {
        "id": "2VBHSjSFwMm0"
      },
      "source": [
        "In addition to linear SVM, we can also implement SVM with polynomial, radial basis function (RBF), and sigmoid kernels. Train an SVM classifier with each kernel separately. Set $C$ to be the value of $C$ with highest validation accuracy from Question 2. \n",
        "\n",
        "You may need to consult the [sklearn documentation](https://scikit-learn.org/stable/modules/generated/sklearn.svm.SVC.html). The polynomial kernel requires the `degree` parameter to be passed; use `degree=3`."
      ]
    },
    {
      "cell_type": "code",
      "execution_count": null,
      "metadata": {
        "id": "bBfC8Y1HwMm0",
        "colab": {
          "base_uri": "https://localhost:8080/"
        },
        "outputId": "b548ca83-1de8-4a0e-99b8-1436fc9e7c48"
      },
      "outputs": [
        {
          "output_type": "execute_result",
          "data": {
            "text/plain": [
              "SVC(C=100)"
            ]
          },
          "metadata": {},
          "execution_count": 13
        }
      ],
      "source": [
        "# RBF\n",
        "C = 100\n",
        "rbf_svc = SVC(kernel='rbf', C=C, degree=3)\n",
        "rbf_svc.fit(train[['petal length','petal width']], train['class'])\n"
      ]
    },
    {
      "cell_type": "code",
      "execution_count": null,
      "metadata": {
        "id": "KmVjy5H2wMm0",
        "colab": {
          "base_uri": "https://localhost:8080/"
        },
        "outputId": "bd378e33-23c3-4977-febe-90970994d049"
      },
      "outputs": [
        {
          "output_type": "execute_result",
          "data": {
            "text/plain": [
              "SVC(C=100, kernel='poly')"
            ]
          },
          "metadata": {},
          "execution_count": 14
        }
      ],
      "source": [
        "# Polynomial (degree=3)\n",
        "# YOUR CODE HERE\n",
        "C = 100\n",
        "poly_svc = SVC(kernel='poly', C=C, degree=3)\n",
        "poly_svc.fit(train[['petal length','petal width']], train['class'])\n"
      ]
    },
    {
      "cell_type": "code",
      "execution_count": null,
      "metadata": {
        "id": "JXhyQQJiwMm1",
        "colab": {
          "base_uri": "https://localhost:8080/"
        },
        "outputId": "9dd83037-ac0b-41b6-fc34-77a20cc30a1e"
      },
      "outputs": [
        {
          "output_type": "execute_result",
          "data": {
            "text/plain": [
              "SVC(C=100, kernel='sigmoid')"
            ]
          },
          "metadata": {},
          "execution_count": 15
        }
      ],
      "source": [
        "# Sigmoid\n",
        "# YOUR CODE HERE\n",
        "C = 100\n",
        "sig_svc = SVC(kernel='sigmoid', C=C, degree=3)\n",
        "sig_svc.fit(train[['petal length','petal width']], train['class'])\n"
      ]
    },
    {
      "cell_type": "markdown",
      "metadata": {
        "id": "e7NXWShWwMm1"
      },
      "source": [
        "Compute and print the validation accuracy for each of the 3 classifiers."
      ]
    },
    {
      "cell_type": "code",
      "execution_count": null,
      "metadata": {
        "id": "O4Y8NbJKwMm1",
        "colab": {
          "base_uri": "https://localhost:8080/"
        },
        "outputId": "5bfbc942-f1e2-4cd1-be3f-2d6300f7ea9a"
      },
      "outputs": [
        {
          "output_type": "stream",
          "name": "stdout",
          "text": [
            "Accuracy score of RBF Model is 0.9666666666666667\n",
            "Accuracy score of Polynomial model is 0.9666666666666667\n",
            "Accuracy score of Sigmoid model is 0.43333333333333335\n"
          ]
        }
      ],
      "source": [
        "# YOUR CODE HERE\n",
        "from sklearn.metrics import accuracy_score\n",
        "validation_rbf=rbf_svc.predict(val[['petal length','petal width']])\n",
        "print(\"Accuracy score of RBF Model is\",accuracy_score(validation_rbf,val['class']))\n",
        "\n",
        "validation_poly=poly_svc.predict(val[['petal length','petal width']])\n",
        "print(\"Accuracy score of Polynomial model is\",accuracy_score(validation_poly,val['class']))\n",
        "\n",
        "validation_sig=sig_svc.predict(val[['petal length','petal width']])\n",
        "print(\"Accuracy score of Sigmoid model is\",accuracy_score(validation_sig,val['class']))"
      ]
    },
    {
      "cell_type": "markdown",
      "metadata": {
        "id": "uqid7QdKwMm1"
      },
      "source": [
        "**Question 3:** \n",
        "\n",
        "Which of the four kernels (the three above + linear) gave the highest validation accuracy? (If multiple tied for the highest accuracy, list all of them.)\n",
        "\n",
        "**Answer:** \n",
        "\n",
        "RBF, Sigmoid and linear gave the highest accuracy."
      ]
    },
    {
      "cell_type": "markdown",
      "metadata": {
        "id": "u2elBQvzwMm2"
      },
      "source": [
        "### SVM with non-linear decision boundary\n",
        "\n",
        "For the Iris-virginica vs. Iris-other version of the Iris dataset, the two classes were mostly linearly separable with a small number of classification errors. However, if we instead wanted to classify Iris-versicolor vs. Iris-other, the two classes would not be linearly separable. Below, we load the dataset again and convert it to Iris-versicolor vs. Iris-other and plot the dataset as a scatter plot."
      ]
    },
    {
      "cell_type": "code",
      "execution_count": null,
      "metadata": {
        "id": "EqyA7YBLwMm2",
        "colab": {
          "base_uri": "https://localhost:8080/",
          "height": 351
        },
        "outputId": "8e2393e3-0aa8-429b-a0dc-8ef8d8f12d74"
      },
      "outputs": [
        {
          "output_type": "execute_result",
          "data": {
            "text/plain": [
              "<matplotlib.legend.Legend at 0x7ff1e87cf990>"
            ]
          },
          "metadata": {},
          "execution_count": 17
        },
        {
          "output_type": "display_data",
          "data": {
            "text/plain": [
              "<Figure size 504x360 with 1 Axes>"
            ],
            "image/png": "[encoded data removed]"
          },
          "metadata": {
            "needs_background": "light"
          }
        }
      ],
      "source": [
        "# Load the dataset\n",
        "data = pd.read_csv('http://archive.ics.uci.edu/ml/machine-learning-databases/iris/iris.data',header=None)\n",
        "data.columns = ['sepal length', 'sepal width', 'petal length', 'petal width', 'class']\n",
        "\n",
        "# Drop the sepal features\n",
        "data = data.drop(['sepal length', 'sepal width'], axis=1)\n",
        "\n",
        "# Replace the Iris-virginica and Iris-setosa classes with Iris-other\n",
        "data['class'] = data['class'].replace('Iris-virginica', 'Iris-other')\n",
        "data['class'] = data['class'].replace('Iris-setosa', 'Iris-other')\n",
        "\n",
        "# Split the data into train/val/test\n",
        "train, val, test = np.split(data.sample(frac=1, random_state=42), [int(.6*len(data)), int(.8*len(data))])\n",
        "\n",
        "# Plot the dataset\n",
        "fig, ax = plt.subplots(1, figsize=(7,5))\n",
        "# Plot the versicolor instances\n",
        "ax.scatter(train[train['class'] == 'Iris-versicolor']['petal length'], \n",
        "               train[train['class'] == 'Iris-versicolor']['petal width'],\n",
        "               label='Iris-versicolor',\n",
        "               color='blue',\n",
        "               alpha=0.5)\n",
        "\n",
        "# Plot the other instances\n",
        "ax.scatter(train[train['class'] == 'Iris-other']['petal length'], \n",
        "               train[train['class'] == 'Iris-other']['petal width'],\n",
        "               label='Iris-other',\n",
        "               color='red',\n",
        "               alpha=0.5)\n",
        "\n",
        "ax.set_xlabel('Petal length')\n",
        "ax.set_ylabel('Petal width')\n",
        "ax.legend()\n"
      ]
    },
    {
      "cell_type": "markdown",
      "metadata": {
        "id": "MCt8EFrcwMm2"
      },
      "source": [
        "If we train a linear SVM to classify these instances, the accuracy will be low. Train a linear SVM and plot the decision boundary to show this (use $C=100$)."
      ]
    },
    {
      "cell_type": "code",
      "execution_count": null,
      "metadata": {
        "id": "mW_-zb9YwMm2",
        "colab": {
          "base_uri": "https://localhost:8080/",
          "height": 385
        },
        "outputId": "2b637fd1-fda3-4ddd-bc26-b3885ea3b117"
      },
      "outputs": [
        {
          "output_type": "stream",
          "name": "stderr",
          "text": [
            "/usr/local/lib/python3.7/dist-packages/sklearn/base.py:451: UserWarning: X does not have valid feature names, but SVC was fitted with feature names\n",
            "  \"X does not have valid feature names, but\"\n"
          ]
        },
        {
          "output_type": "display_data",
          "data": {
            "text/plain": [
              "<Figure size 504x360 with 1 Axes>"
            ],
            "image/png": "[encoded data removed]"
          },
          "metadata": {
            "needs_background": "light"
          }
        }
      ],
      "source": [
        "# YOUR CODE HERE\n",
        "C = 100\n",
        "linear_model = SVC(kernel='linear', C=C)\n",
        "\n",
        "# train the SVM classifier\n",
        "linear_model.fit(train[['petal length','petal width']], train['class'])\n",
        "\n",
        "\n",
        "fig, ax = plt.subplots(1, figsize=(7,5))\n",
        "# Plot the setosa instances\n",
        "ax.scatter(train[train['class'] == 'Iris-versicolor']['petal length'], \n",
        "               train[train['class'] == 'Iris-versicolor']['petal width'],\n",
        "               label='Iris-versicolor',\n",
        "               color='blue',\n",
        "               alpha=0.5)\n",
        "# Plot the other instances\n",
        "ax.scatter(train[train['class'] == 'Iris-other']['petal length'], \n",
        "               train[train['class'] == 'Iris-other']['petal width'],\n",
        "               label='Iris-other',\n",
        "               color='red',\n",
        "               alpha=0.5)\n",
        "\n",
        "plot_svc_decision_function(linear_model, ax=ax)\n",
        "ax.set_xlabel('Petal length')\n",
        "ax.set_ylabel('Petal width')\n",
        "ax.legend()\n",
        "ax.set_title('SVM with Linear Kernel (C=%0.2f)' % C);\n",
        "# train.shape[0]"
      ]
    },
    {
      "cell_type": "markdown",
      "metadata": {
        "id": "2LRtBxURwMm2"
      },
      "source": [
        "The radial basis function kernel will allow us to learn an elliptical decision boundary that will better fit the data. Train an SVM with RBF kernel and plot the decision boundary (use $C=100$)."
      ]
    },
    {
      "cell_type": "code",
      "execution_count": null,
      "metadata": {
        "id": "JiVPFQHywMm2",
        "colab": {
          "base_uri": "https://localhost:8080/",
          "height": 385
        },
        "outputId": "45205786-8566-466e-eb0f-d75f1e924f53"
      },
      "outputs": [
        {
          "output_type": "stream",
          "name": "stderr",
          "text": [
            "/usr/local/lib/python3.7/dist-packages/sklearn/base.py:451: UserWarning: X does not have valid feature names, but SVC was fitted with feature names\n",
            "  \"X does not have valid feature names, but\"\n"
          ]
        },
        {
          "output_type": "display_data",
          "data": {
            "text/plain": [
              "<Figure size 504x360 with 1 Axes>"
            ],
            "image/png": "[encoded data removed]"
          },
          "metadata": {
            "needs_background": "light"
          }
        }
      ],
      "source": [
        "# YOUR CODE HERE\n",
        "rbf_svc_100 = SVC(kernel='rbf', C=C)\n",
        "\n",
        "# train the SVM classifier\n",
        "rbf_svc_100.fit(train[['petal length','petal width']], train['class'])\n",
        "\n",
        "\n",
        "fig, ax = plt.subplots(1, figsize=(7,5))\n",
        "# Plot the setosa instances\n",
        "ax.scatter(train[train['class'] == 'Iris-versicolor']['petal length'], \n",
        "               train[train['class'] == 'Iris-versicolor']['petal width'],\n",
        "               label='Iris-versicolor',\n",
        "               color='blue',\n",
        "               alpha=0.5)\n",
        "# Plot the other instances\n",
        "ax.scatter(train[train['class'] == 'Iris-other']['petal length'], \n",
        "               train[train['class'] == 'Iris-other']['petal width'],\n",
        "               label='Iris-other',\n",
        "               color='red',\n",
        "               alpha=0.5)\n",
        "\n",
        "plot_svc_decision_function(rbf_svc_100, ax=ax)\n",
        "ax.set_xlabel('Petal length')\n",
        "ax.set_ylabel('Petal width')\n",
        "ax.legend()\n",
        "ax.set_title('SVM with Linear Kernel (C=%0.2f)' % C);"
      ]
    },
    {
      "cell_type": "markdown",
      "metadata": {
        "id": "RHB8Yw0awMm2"
      },
      "source": [
        "Compute and print the validation accuracy of your linear and RBF SVM classifiers."
      ]
    },
    {
      "cell_type": "code",
      "execution_count": null,
      "metadata": {
        "id": "jzpQNg47wMm3",
        "colab": {
          "base_uri": "https://localhost:8080/"
        },
        "outputId": "2aa51b63-3cd3-48ea-ed63-c9cb53073e4e"
      },
      "outputs": [
        {
          "output_type": "stream",
          "name": "stdout",
          "text": [
            "Accuracy score of Linear Model is 0.7\n",
            "Accuracy score of RBF Model is 0.9666666666666667\n"
          ]
        }
      ],
      "source": [
        "# YOUR CODE HERE\n",
        "from sklearn.metrics import accuracy_score\n",
        "val_linear=linear_model.predict(val[['petal length','petal width']])\n",
        "print(\"Accuracy score of Linear Model is\",accuracy_score(val_linear,val['class']))\n",
        "\n",
        "val_rbf=rbf_svc_100.predict(val[['petal length','petal width']])\n",
        "print(\"Accuracy score of RBF Model is\",accuracy_score(val_rbf,val['class']))"
      ]
    },
    {
      "cell_type": "markdown",
      "metadata": {
        "id": "chYjfsfBwMm3"
      },
      "source": [
        "Finally, use the best model (the one with the highest validation accuracy in the last cell) to compute the final accuracy on our test set. "
      ]
    },
    {
      "cell_type": "code",
      "execution_count": null,
      "metadata": {
        "id": "LUhZlsX3wMm3",
        "colab": {
          "base_uri": "https://localhost:8080/"
        },
        "outputId": "e50b98e8-34aa-41c6-df90-4b06c94dd4dc"
      },
      "outputs": [
        {
          "output_type": "stream",
          "name": "stdout",
          "text": [
            "Accuracy score of RBF Model is 0.9666666666666667\n"
          ]
        }
      ],
      "source": [
        "# YOUR CODE HERE\n",
        "from sklearn.metrics import accuracy_score\n",
        "test_rbf=rbf_svc_100.predict(test[['petal length','petal width']])\n",
        "print(\"Accuracy score of RBF Model is\",accuracy_score(test_rbf,test['class']))"
      ]
    },
    {
      "cell_type": "markdown",
      "metadata": {
        "id": "KW2VEOkmwMm3"
      },
      "source": [
        "### Put everything together\n",
        "\n",
        "In this last section, we load the full iris dataset including all features and the three classes and split it into train/val/test subsets. Then you will implement the following steps:\n",
        "1. Train an SVM with RBF kernel using all four input features and all 3 classes.\n",
        "2. Evaluate whether $C=0.1$, $C=1$, $C=10$, or $C=100$ gives better validation accuracy. Print the validation accuracy for both.\n",
        "3. Use the model with the setting of $C$ that gave the highest validation accuracy to make predictions for the *test* set and compute/print the final accuracy on the test set."
      ]
    },
    {
      "cell_type": "code",
      "execution_count": null,
      "metadata": {
        "id": "NmOtZVTDwMm3"
      },
      "outputs": [],
      "source": [
        "# Load the dataset\n",
        "data = pd.read_csv('http://archive.ics.uci.edu/ml/machine-learning-databases/iris/iris.data',header=None)\n",
        "data.columns = ['sepal length', 'sepal width', 'petal length', 'petal width', 'class']\n",
        "\n",
        "# Split the data into train/val/test\n",
        "train, val, test = np.split(data.sample(frac=1, random_state=42), [int(.6*len(data)), int(.8*len(data))])"
      ]
    },
    {
      "cell_type": "code",
      "execution_count": null,
      "metadata": {
        "id": "dxwn5wAMwMm3",
        "colab": {
          "base_uri": "https://localhost:8080/"
        },
        "outputId": "5f7842e1-81f4-4e5f-f42b-56b578202a0e"
      },
      "outputs": [
        {
          "output_type": "stream",
          "name": "stdout",
          "text": [
            "Accuracy score when C=  0.1  is -  0.7333333333333333\n",
            "Accuracy score when C=  1  is -  0.9333333333333333\n",
            "Accuracy score when C=  10  is -  0.9666666666666667\n",
            "Accuracy score when C=  100  is -  0.9333333333333333\n"
          ]
        }
      ],
      "source": [
        "# Train SVMs and evaluate validation accuracy\n",
        "# YOUR CODE HERE\n",
        "from sklearn.metrics import accuracy_score\n",
        "C=[0.1,1,10,100]\n",
        "for i in C:\n",
        "  rbf = SVC(kernel='rbf', C=i)\n",
        "  rbf.fit(train[['sepal length', 'sepal width','petal length','petal width']], train['class'])\n",
        "  pred_rbf=rbf.predict(val[['sepal length', 'sepal width','petal length','petal width']])\n",
        "  print(\"Accuracy score when C= \",i, \" is - \",accuracy_score(pred_rbf,val['class']))"
      ]
    },
    {
      "cell_type": "code",
      "execution_count": null,
      "metadata": {
        "id": "nPvLzDbqwMm3",
        "colab": {
          "base_uri": "https://localhost:8080/"
        },
        "outputId": "80f6143e-0871-4bb7-9b6e-db173ff7e609"
      },
      "outputs": [
        {
          "output_type": "stream",
          "name": "stdout",
          "text": [
            "Accuracy score of test data is -  0.9666666666666667\n"
          ]
        }
      ],
      "source": [
        "# Use best model to predict test set and compute test accuracy\n",
        "# YOUR CODE HERE\n",
        "rbf = SVC(kernel='rbf', C=10)\n",
        "rbf.fit(train[['sepal length', 'sepal width','petal length','petal width']], train['class'])\n",
        "pred_rbf=rbf.predict(test[['sepal length', 'sepal width','petal length','petal width']])\n",
        "print(\"Accuracy score of test data is - \",accuracy_score(pred_rbf,test['class']))"
      ]
    }
  ],
  "metadata": {
    "kernelspec": {
      "display_name": "Python 3",
      "language": "python",
      "name": "python3"
    },
    "language_info": {
      "codemirror_mode": {
        "name": "ipython",
        "version": 3
      },
      "file_extension": ".py",
      "mimetype": "text/x-python",
      "name": "python",
      "nbconvert_exporter": "python",
      "pygments_lexer": "ipython3",
      "version": "3.6.15"
    },
    "colab": {
      "provenance": []
    }
  },
  "nbformat": 4,
  "nbformat_minor": 0
}